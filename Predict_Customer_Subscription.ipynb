{
  "nbformat": 4,
  "nbformat_minor": 0,
  "metadata": {
    "kernelspec": {
      "display_name": "Python 2",
      "language": "python",
      "name": "python2"
    },
    "language_info": {
      "codemirror_mode": {
        "name": "ipython",
        "version": 2
      },
      "file_extension": ".py",
      "mimetype": "text/x-python",
      "name": "python",
      "nbconvert_exporter": "python",
      "pygments_lexer": "ipython2",
      "version": "2.7.15"
    },
    "colab": {
      "name": "Predict_Customer_Subscription.ipynb",
      "provenance": []
    }
  },
  "cells": [
    {
      "cell_type": "markdown",
      "metadata": {
        "id": "zNYyLiIiEJQ-"
      },
      "source": [
        "# Predict Customer Subscription"
      ]
    },
    {
      "cell_type": "markdown",
      "metadata": {
        "id": "Pw3h-nYBD02w"
      },
      "source": [
        "#### Data Loading and Validation of the loaded dataset "
      ]
    },
    {
      "cell_type": "code",
      "metadata": {
        "id": "niO2etCLD02x"
      },
      "source": [
        "Bank_csv ='bank-additional-full.csv'\n",
        "\n",
        "import pandas as pd\n",
        "\n",
        "import numpy as np\n",
        "\n",
        "import matplotlib.pyplot as plt\n",
        "\n",
        "%matplotlib inline\n",
        "\n",
        "Bank = pd.read_csv(Bank_csv, sep=';',decimal ='.')"
      ],
      "execution_count": null,
      "outputs": []
    },
    {
      "cell_type": "code",
      "metadata": {
        "id": "Jmqa_-PlD02y",
        "outputId": "dcec7583-631d-4b5f-a8fc-1d14e0b02849"
      },
      "source": [
        "Bank.dtypes"
      ],
      "execution_count": null,
      "outputs": [
        {
          "output_type": "execute_result",
          "data": {
            "text/plain": [
              "age                 int64\n",
              "job                object\n",
              "marital            object\n",
              "education          object\n",
              "default            object\n",
              "housing            object\n",
              "loan               object\n",
              "contact            object\n",
              "month              object\n",
              "day_of_week        object\n",
              "duration            int64\n",
              "campaign            int64\n",
              "pdays               int64\n",
              "previous            int64\n",
              "poutcome           object\n",
              "emp.var.rate      float64\n",
              "cons.price.idx    float64\n",
              "cons.conf.idx     float64\n",
              "euribor3m         float64\n",
              "nr.employed       float64\n",
              "y                  object\n",
              "dtype: object"
            ]
          },
          "metadata": {
            "tags": []
          },
          "execution_count": 2
        }
      ]
    },
    {
      "cell_type": "code",
      "metadata": {
        "id": "9VMK2BOmD02y",
        "outputId": "29f3b6cb-d1c2-42ef-f728-d586253a6d69"
      },
      "source": [
        "Bank.shape"
      ],
      "execution_count": null,
      "outputs": [
        {
          "output_type": "execute_result",
          "data": {
            "text/plain": [
              "(41188, 21)"
            ]
          },
          "metadata": {
            "tags": []
          },
          "execution_count": 3
        }
      ]
    },
    {
      "cell_type": "code",
      "metadata": {
        "id": "Hc6kUZ-YD02z",
        "outputId": "f1d757e6-970e-428d-f05f-562fa8002e4b"
      },
      "source": [
        "Bank.head(10)"
      ],
      "execution_count": null,
      "outputs": [
        {
          "output_type": "execute_result",
          "data": {
            "text/html": [
              "<div>\n",
              "<style scoped>\n",
              "    .dataframe tbody tr th:only-of-type {\n",
              "        vertical-align: middle;\n",
              "    }\n",
              "\n",
              "    .dataframe tbody tr th {\n",
              "        vertical-align: top;\n",
              "    }\n",
              "\n",
              "    .dataframe thead th {\n",
              "        text-align: right;\n",
              "    }\n",
              "</style>\n",
              "<table border=\"1\" class=\"dataframe\">\n",
              "  <thead>\n",
              "    <tr style=\"text-align: right;\">\n",
              "      <th></th>\n",
              "      <th>age</th>\n",
              "      <th>job</th>\n",
              "      <th>marital</th>\n",
              "      <th>education</th>\n",
              "      <th>default</th>\n",
              "      <th>housing</th>\n",
              "      <th>loan</th>\n",
              "      <th>contact</th>\n",
              "      <th>month</th>\n",
              "      <th>day_of_week</th>\n",
              "      <th>...</th>\n",
              "      <th>campaign</th>\n",
              "      <th>pdays</th>\n",
              "      <th>previous</th>\n",
              "      <th>poutcome</th>\n",
              "      <th>emp.var.rate</th>\n",
              "      <th>cons.price.idx</th>\n",
              "      <th>cons.conf.idx</th>\n",
              "      <th>euribor3m</th>\n",
              "      <th>nr.employed</th>\n",
              "      <th>y</th>\n",
              "    </tr>\n",
              "  </thead>\n",
              "  <tbody>\n",
              "    <tr>\n",
              "      <th>0</th>\n",
              "      <td>56</td>\n",
              "      <td>housemaid</td>\n",
              "      <td>married</td>\n",
              "      <td>basic.4y</td>\n",
              "      <td>no</td>\n",
              "      <td>no</td>\n",
              "      <td>no</td>\n",
              "      <td>telephone</td>\n",
              "      <td>may</td>\n",
              "      <td>mon</td>\n",
              "      <td>...</td>\n",
              "      <td>1</td>\n",
              "      <td>999</td>\n",
              "      <td>0</td>\n",
              "      <td>nonexistent</td>\n",
              "      <td>1.1</td>\n",
              "      <td>93.994</td>\n",
              "      <td>-36.4</td>\n",
              "      <td>4.857</td>\n",
              "      <td>5191.0</td>\n",
              "      <td>no</td>\n",
              "    </tr>\n",
              "    <tr>\n",
              "      <th>1</th>\n",
              "      <td>57</td>\n",
              "      <td>services</td>\n",
              "      <td>married</td>\n",
              "      <td>high.school</td>\n",
              "      <td>unknown</td>\n",
              "      <td>no</td>\n",
              "      <td>no</td>\n",
              "      <td>telephone</td>\n",
              "      <td>may</td>\n",
              "      <td>mon</td>\n",
              "      <td>...</td>\n",
              "      <td>1</td>\n",
              "      <td>999</td>\n",
              "      <td>0</td>\n",
              "      <td>nonexistent</td>\n",
              "      <td>1.1</td>\n",
              "      <td>93.994</td>\n",
              "      <td>-36.4</td>\n",
              "      <td>4.857</td>\n",
              "      <td>5191.0</td>\n",
              "      <td>no</td>\n",
              "    </tr>\n",
              "    <tr>\n",
              "      <th>2</th>\n",
              "      <td>37</td>\n",
              "      <td>services</td>\n",
              "      <td>married</td>\n",
              "      <td>high.school</td>\n",
              "      <td>no</td>\n",
              "      <td>yes</td>\n",
              "      <td>no</td>\n",
              "      <td>telephone</td>\n",
              "      <td>may</td>\n",
              "      <td>mon</td>\n",
              "      <td>...</td>\n",
              "      <td>1</td>\n",
              "      <td>999</td>\n",
              "      <td>0</td>\n",
              "      <td>nonexistent</td>\n",
              "      <td>1.1</td>\n",
              "      <td>93.994</td>\n",
              "      <td>-36.4</td>\n",
              "      <td>4.857</td>\n",
              "      <td>5191.0</td>\n",
              "      <td>no</td>\n",
              "    </tr>\n",
              "    <tr>\n",
              "      <th>3</th>\n",
              "      <td>40</td>\n",
              "      <td>admin.</td>\n",
              "      <td>married</td>\n",
              "      <td>basic.6y</td>\n",
              "      <td>no</td>\n",
              "      <td>no</td>\n",
              "      <td>no</td>\n",
              "      <td>telephone</td>\n",
              "      <td>may</td>\n",
              "      <td>mon</td>\n",
              "      <td>...</td>\n",
              "      <td>1</td>\n",
              "      <td>999</td>\n",
              "      <td>0</td>\n",
              "      <td>nonexistent</td>\n",
              "      <td>1.1</td>\n",
              "      <td>93.994</td>\n",
              "      <td>-36.4</td>\n",
              "      <td>4.857</td>\n",
              "      <td>5191.0</td>\n",
              "      <td>no</td>\n",
              "    </tr>\n",
              "    <tr>\n",
              "      <th>4</th>\n",
              "      <td>56</td>\n",
              "      <td>services</td>\n",
              "      <td>married</td>\n",
              "      <td>high.school</td>\n",
              "      <td>no</td>\n",
              "      <td>no</td>\n",
              "      <td>yes</td>\n",
              "      <td>telephone</td>\n",
              "      <td>may</td>\n",
              "      <td>mon</td>\n",
              "      <td>...</td>\n",
              "      <td>1</td>\n",
              "      <td>999</td>\n",
              "      <td>0</td>\n",
              "      <td>nonexistent</td>\n",
              "      <td>1.1</td>\n",
              "      <td>93.994</td>\n",
              "      <td>-36.4</td>\n",
              "      <td>4.857</td>\n",
              "      <td>5191.0</td>\n",
              "      <td>no</td>\n",
              "    </tr>\n",
              "    <tr>\n",
              "      <th>5</th>\n",
              "      <td>45</td>\n",
              "      <td>services</td>\n",
              "      <td>married</td>\n",
              "      <td>basic.9y</td>\n",
              "      <td>unknown</td>\n",
              "      <td>no</td>\n",
              "      <td>no</td>\n",
              "      <td>telephone</td>\n",
              "      <td>may</td>\n",
              "      <td>mon</td>\n",
              "      <td>...</td>\n",
              "      <td>1</td>\n",
              "      <td>999</td>\n",
              "      <td>0</td>\n",
              "      <td>nonexistent</td>\n",
              "      <td>1.1</td>\n",
              "      <td>93.994</td>\n",
              "      <td>-36.4</td>\n",
              "      <td>4.857</td>\n",
              "      <td>5191.0</td>\n",
              "      <td>no</td>\n",
              "    </tr>\n",
              "    <tr>\n",
              "      <th>6</th>\n",
              "      <td>59</td>\n",
              "      <td>admin.</td>\n",
              "      <td>married</td>\n",
              "      <td>professional.course</td>\n",
              "      <td>no</td>\n",
              "      <td>no</td>\n",
              "      <td>no</td>\n",
              "      <td>telephone</td>\n",
              "      <td>may</td>\n",
              "      <td>mon</td>\n",
              "      <td>...</td>\n",
              "      <td>1</td>\n",
              "      <td>999</td>\n",
              "      <td>0</td>\n",
              "      <td>nonexistent</td>\n",
              "      <td>1.1</td>\n",
              "      <td>93.994</td>\n",
              "      <td>-36.4</td>\n",
              "      <td>4.857</td>\n",
              "      <td>5191.0</td>\n",
              "      <td>no</td>\n",
              "    </tr>\n",
              "    <tr>\n",
              "      <th>7</th>\n",
              "      <td>41</td>\n",
              "      <td>blue-collar</td>\n",
              "      <td>married</td>\n",
              "      <td>unknown</td>\n",
              "      <td>unknown</td>\n",
              "      <td>no</td>\n",
              "      <td>no</td>\n",
              "      <td>telephone</td>\n",
              "      <td>may</td>\n",
              "      <td>mon</td>\n",
              "      <td>...</td>\n",
              "      <td>1</td>\n",
              "      <td>999</td>\n",
              "      <td>0</td>\n",
              "      <td>nonexistent</td>\n",
              "      <td>1.1</td>\n",
              "      <td>93.994</td>\n",
              "      <td>-36.4</td>\n",
              "      <td>4.857</td>\n",
              "      <td>5191.0</td>\n",
              "      <td>no</td>\n",
              "    </tr>\n",
              "    <tr>\n",
              "      <th>8</th>\n",
              "      <td>24</td>\n",
              "      <td>technician</td>\n",
              "      <td>single</td>\n",
              "      <td>professional.course</td>\n",
              "      <td>no</td>\n",
              "      <td>yes</td>\n",
              "      <td>no</td>\n",
              "      <td>telephone</td>\n",
              "      <td>may</td>\n",
              "      <td>mon</td>\n",
              "      <td>...</td>\n",
              "      <td>1</td>\n",
              "      <td>999</td>\n",
              "      <td>0</td>\n",
              "      <td>nonexistent</td>\n",
              "      <td>1.1</td>\n",
              "      <td>93.994</td>\n",
              "      <td>-36.4</td>\n",
              "      <td>4.857</td>\n",
              "      <td>5191.0</td>\n",
              "      <td>no</td>\n",
              "    </tr>\n",
              "    <tr>\n",
              "      <th>9</th>\n",
              "      <td>25</td>\n",
              "      <td>services</td>\n",
              "      <td>single</td>\n",
              "      <td>high.school</td>\n",
              "      <td>no</td>\n",
              "      <td>yes</td>\n",
              "      <td>no</td>\n",
              "      <td>telephone</td>\n",
              "      <td>may</td>\n",
              "      <td>mon</td>\n",
              "      <td>...</td>\n",
              "      <td>1</td>\n",
              "      <td>999</td>\n",
              "      <td>0</td>\n",
              "      <td>nonexistent</td>\n",
              "      <td>1.1</td>\n",
              "      <td>93.994</td>\n",
              "      <td>-36.4</td>\n",
              "      <td>4.857</td>\n",
              "      <td>5191.0</td>\n",
              "      <td>no</td>\n",
              "    </tr>\n",
              "  </tbody>\n",
              "</table>\n",
              "<p>10 rows × 21 columns</p>\n",
              "</div>"
            ],
            "text/plain": [
              "   age          job  marital            education  default housing loan  \\\n",
              "0   56    housemaid  married             basic.4y       no      no   no   \n",
              "1   57     services  married          high.school  unknown      no   no   \n",
              "2   37     services  married          high.school       no     yes   no   \n",
              "3   40       admin.  married             basic.6y       no      no   no   \n",
              "4   56     services  married          high.school       no      no  yes   \n",
              "5   45     services  married             basic.9y  unknown      no   no   \n",
              "6   59       admin.  married  professional.course       no      no   no   \n",
              "7   41  blue-collar  married              unknown  unknown      no   no   \n",
              "8   24   technician   single  professional.course       no     yes   no   \n",
              "9   25     services   single          high.school       no     yes   no   \n",
              "\n",
              "     contact month day_of_week ...  campaign  pdays  previous     poutcome  \\\n",
              "0  telephone   may         mon ...         1    999         0  nonexistent   \n",
              "1  telephone   may         mon ...         1    999         0  nonexistent   \n",
              "2  telephone   may         mon ...         1    999         0  nonexistent   \n",
              "3  telephone   may         mon ...         1    999         0  nonexistent   \n",
              "4  telephone   may         mon ...         1    999         0  nonexistent   \n",
              "5  telephone   may         mon ...         1    999         0  nonexistent   \n",
              "6  telephone   may         mon ...         1    999         0  nonexistent   \n",
              "7  telephone   may         mon ...         1    999         0  nonexistent   \n",
              "8  telephone   may         mon ...         1    999         0  nonexistent   \n",
              "9  telephone   may         mon ...         1    999         0  nonexistent   \n",
              "\n",
              "  emp.var.rate  cons.price.idx  cons.conf.idx  euribor3m  nr.employed   y  \n",
              "0          1.1          93.994          -36.4      4.857       5191.0  no  \n",
              "1          1.1          93.994          -36.4      4.857       5191.0  no  \n",
              "2          1.1          93.994          -36.4      4.857       5191.0  no  \n",
              "3          1.1          93.994          -36.4      4.857       5191.0  no  \n",
              "4          1.1          93.994          -36.4      4.857       5191.0  no  \n",
              "5          1.1          93.994          -36.4      4.857       5191.0  no  \n",
              "6          1.1          93.994          -36.4      4.857       5191.0  no  \n",
              "7          1.1          93.994          -36.4      4.857       5191.0  no  \n",
              "8          1.1          93.994          -36.4      4.857       5191.0  no  \n",
              "9          1.1          93.994          -36.4      4.857       5191.0  no  \n",
              "\n",
              "[10 rows x 21 columns]"
            ]
          },
          "metadata": {
            "tags": []
          },
          "execution_count": 4
        }
      ]
    },
    {
      "cell_type": "markdown",
      "metadata": {
        "id": "UCJhlT3lD02z"
      },
      "source": [
        "## Data Cleaning"
      ]
    },
    {
      "cell_type": "code",
      "metadata": {
        "id": "zt6iM-BvD020"
      },
      "source": [
        "for col in Bank.select_dtypes([np.object]):\n",
        "    Bank[col] = Bank[col].str.strip()"
      ],
      "execution_count": null,
      "outputs": []
    },
    {
      "cell_type": "code",
      "metadata": {
        "id": "SuC71dk3D020",
        "outputId": "bed8db88-1c57-4e59-9b34-5dfa6e957ee9"
      },
      "source": [
        "print('age----'),\n",
        "print(np.unique(Bank[['age']].values))\n",
        "print('job----'),\n",
        "print(np.unique(Bank[['job']].values))\n",
        "print('marital----'),\n",
        "print(np.unique(Bank[['marital']].values))\n",
        "print('education----'),\n",
        "print(np.unique(Bank[['education']].values))\n",
        "print('default----'),\n",
        "print(np.unique(Bank[['default']].values))\n",
        "print('housing----'),\n",
        "print(np.unique(Bank[['housing']].values))\n",
        "print('loan----'),\n",
        "print(np.unique(Bank[['loan']].values))\n",
        "print('contact----'),\n",
        "print(np.unique(Bank[['contact']].values))\n",
        "print('month----'),\n",
        "print(np.unique(Bank[['month']].values))\n",
        "print('day_of_week----'),\n",
        "print(np.unique(Bank[['day_of_week']].values))\n",
        "print('duration----'),\n",
        "print(np.unique(Bank[['duration']].values))\n",
        "print('campaign----'),\n",
        "print(np.unique(Bank[['campaign']].values))\n",
        "print('pdays----'),\n",
        "print(np.unique(Bank[['pdays']].values))\n",
        "print('previous----'),\n",
        "print(np.unique(Bank[['previous']].values))\n",
        "print('poutcome----'),\n",
        "print(np.unique(Bank[['poutcome']].values))\n",
        "print('y----'),\n",
        "print(np.unique(Bank[['y']].values))"
      ],
      "execution_count": null,
      "outputs": [
        {
          "output_type": "stream",
          "text": [
            "age---- [17 18 19 20 21 22 23 24 25 26 27 28 29 30 31 32 33 34 35 36 37 38 39 40\n",
            " 41 42 43 44 45 46 47 48 49 50 51 52 53 54 55 56 57 58 59 60 61 62 63 64\n",
            " 65 66 67 68 69 70 71 72 73 74 75 76 77 78 79 80 81 82 83 84 85 86 87 88\n",
            " 89 91 92 94 95 98]\n",
            "job---- ['admin.' 'blue-collar' 'entrepreneur' 'housemaid' 'management' 'retired'\n",
            " 'self-employed' 'services' 'student' 'technician' 'unemployed' 'unknown']\n",
            "marital---- ['divorced' 'married' 'single' 'unknown']\n",
            "education---- ['basic.4y' 'basic.6y' 'basic.9y' 'high.school' 'illiterate'\n",
            " 'professional.course' 'university.degree' 'unknown']\n",
            "default---- ['no' 'unknown' 'yes']\n",
            "housing---- ['no' 'unknown' 'yes']\n",
            "loan---- ['no' 'unknown' 'yes']\n",
            "contact---- ['cellular' 'telephone']\n",
            "month---- ['apr' 'aug' 'dec' 'jul' 'jun' 'mar' 'may' 'nov' 'oct' 'sep']\n",
            "day_of_week---- ['fri' 'mon' 'thu' 'tue' 'wed']\n",
            "duration---- [   0    1    2 ... 3785 4199 4918]\n",
            "campaign---- [ 1  2  3  4  5  6  7  8  9 10 11 12 13 14 15 16 17 18 19 20 21 22 23 24\n",
            " 25 26 27 28 29 30 31 32 33 34 35 37 39 40 41 42 43 56]\n",
            "pdays---- [  0   1   2   3   4   5   6   7   8   9  10  11  12  13  14  15  16  17\n",
            "  18  19  20  21  22  25  26  27 999]\n",
            "previous---- [0 1 2 3 4 5 6 7]\n",
            "poutcome---- ['failure' 'nonexistent' 'success']\n",
            "y---- ['no' 'yes']\n"
          ],
          "name": "stdout"
        }
      ]
    },
    {
      "cell_type": "markdown",
      "metadata": {
        "id": "IIzcA3lND021"
      },
      "source": [
        "## Task 2 - Data Exploration"
      ]
    },
    {
      "cell_type": "code",
      "metadata": {
        "id": "J1h8R2q3D022",
        "outputId": "478b3616-c66a-4b65-98e0-0752bbd87c23"
      },
      "source": [
        "##### Box plot  for cons.conf.idx VS subscription\n",
        "Bank.boxplot(column='cons.conf.idx',by='y',figsize=[5,5],patch_artist=True);\n",
        "plt.ylabel(\"cons.conf.idx\")\n",
        "plt.title(\"cons.conf.idx vs subscription\");\n",
        "plt.savefig('cons.conf.idx_VS_subscription.png')\n",
        "\n",
        "##### Box plot  for cons.price.idx VS subscription\n",
        "Bank.boxplot(column='cons.price.idx',by='y',figsize=[5,5],patch_artist=True);\n",
        "plt.ylabel(\"cons.price.idx\")\n",
        "plt.title(\"cons.price.idx vs subscription\");\n",
        "plt.savefig('cons.price.idx_VS_subscription.png')\n",
        "\n",
        "##### Box plot  for emp.var.rate VS subscription\n",
        "Bank.boxplot(column='emp.var.rate',by='y',figsize=[5,5],patch_artist=True);\n",
        "plt.ylabel(\"emp.var.rate\")\n",
        "plt.title(\"emp.var.rate vs subscrition\");\n",
        "plt.savefig('emp.var.rate_VS_subscription.png')\n",
        "\n",
        "##### Box plot  for nr.employed  VS subscription\n",
        "Bank.boxplot(column='nr.employed',by='y',figsize=[5,5],patch_artist=True);\n",
        "plt.ylabel(\"nr.employed\")\n",
        "plt.title(\"nr.employed vs subscription\");\n",
        "plt.savefig('nr.employed _VS_subscription.png')\n",
        "\n",
        "##### Education Vs housing loan\n",
        "import seaborn as sns\n",
        "import matplotlib.pyplot as plt\n",
        "plt.figure(figsize=(10,5))\n",
        "plt.savefig('education _VS_housing_loan.png')\n",
        "plt.title(\"Education and Housing loan\");\n",
        "sns.countplot(x=\"education\",hue=\"housing\",data=Bank, palette=\"muted\");\n",
        "\n",
        "##### Job Vs Subscription\n",
        "import seaborn as sns\n",
        "import matplotlib.pyplot as plt\n",
        "plt.figure(figsize=(15,5))\n",
        "plt.title(\"job VS subscription\");\n",
        "sns.countplot(x=\"job\",hue=\"y\",data=Bank, palette=\"muted\")"
      ],
      "execution_count": null,
      "outputs": [
        {
          "output_type": "execute_result",
          "data": {
            "text/plain": [
              "<matplotlib.axes._subplots.AxesSubplot at 0xb9eb860>"
            ]
          },
          "metadata": {
            "tags": []
          },
          "execution_count": 7
        },
        {
          "output_type": "display_data",
          "data": {
            "image/png": "[encoded data removed]",
            "text/plain": [
              "<Figure size 360x360 with 1 Axes>"
            ]
          },
          "metadata": {
            "tags": [],
            "needs_background": "light"
          }
        },
        {
          "output_type": "display_data",
          "data": {
            "image/png": "[encoded data removed]",
            "text/plain": [
              "<Figure size 360x360 with 1 Axes>"
            ]
          },
          "metadata": {
            "tags": [],
            "needs_background": "light"
          }
        },
        {
          "output_type": "display_data",
          "data": {
            "image/png": "[encoded data removed]",
            "text/plain": [
              "<Figure size 360x360 with 1 Axes>"
            ]
          },
          "metadata": {
            "tags": [],
            "needs_background": "light"
          }
        },
        {
          "output_type": "display_data",
          "data": {
            "image/png": "[encoded data removed]",
            "text/plain": [
              "<Figure size 360x360 with 1 Axes>"
            ]
          },
          "metadata": {
            "tags": [],
            "needs_background": "light"
          }
        },
        {
          "output_type": "display_data",
          "data": {
            "image/png": "[encoded data removed]",
            "text/plain": [
              "<Figure size 720x360 with 1 Axes>"
            ]
          },
          "metadata": {
            "tags": [],
            "needs_background": "light"
          }
        },
        {
          "output_type": "display_data",
          "data": {
            "image/png": "[encoded data removed]",
            "text/plain": [
              "<Figure size 1080x360 with 1 Axes>"
            ]
          },
          "metadata": {
            "tags": [],
            "needs_background": "light"
          }
        }
      ]
    },
    {
      "cell_type": "markdown",
      "metadata": {
        "id": "-mkm7S1MD022"
      },
      "source": [
        "## Task 3: Data Modelling"
      ]
    },
    {
      "cell_type": "code",
      "metadata": {
        "id": "q66hoxN2D023"
      },
      "source": [
        "Bank_model= Bank.loc[: , ['age','job','education','default','housing','loan','poutcome','emp.var.rate','cons.conf.idx','nr.employed']]"
      ],
      "execution_count": null,
      "outputs": []
    },
    {
      "cell_type": "code",
      "metadata": {
        "id": "1UmKQv19D023"
      },
      "source": [
        "Bank_model_target= Bank.loc[: , ['y']]"
      ],
      "execution_count": null,
      "outputs": []
    },
    {
      "cell_type": "code",
      "metadata": {
        "id": "-n2LjUHVD023"
      },
      "source": [
        "Bank_model['job'].replace(['admin.','blue-collar','entrepreneur','housemaid','management','retired','self-employed','services','student','technician','unemployed','unknown'] , [1, 2, 3, 4, 5, 6, 7, 8, 9, 10, 11, 12], inplace=True)\n",
        "\n",
        "Bank_model['education'].replace(['basic.4y','basic.6y','basic.9y','high.school','illiterate','professional.course','university.degree','unknown'], [1, 2, 3, 4, 5, 6, 7, 8], inplace=True)\n",
        "\n",
        "Bank_model['default'].replace(['no','yes','unknown'],[1, 2, 3], inplace=True)\n",
        "\n",
        "Bank_model['housing'].replace(['no','yes','unknown'],[1, 2, 3], inplace=True)\n",
        "\n",
        "Bank_model['loan'].replace(['no','yes','unknown'],[1, 2, 3], inplace=True)\n",
        "\n",
        "Bank_model['poutcome'].replace(['failure','nonexistent','success'],[1, 2, 3], inplace=True)"
      ],
      "execution_count": null,
      "outputs": []
    },
    {
      "cell_type": "code",
      "metadata": {
        "id": "Mzs2ps0dD023"
      },
      "source": [
        "def emp_var_rate(dataframe):\n",
        "    dataframe.loc[dataframe['emp.var.rate'] <= -3, 'emp.var.rate'] = -3\n",
        "    dataframe.loc[(dataframe['emp.var.rate'] >= -2.9) & (dataframe['emp.var.rate'] <= -2.0), 'emp.var.rate'] = -2\n",
        "    dataframe.loc[(dataframe['emp.var.rate'] >= -1.9) & (dataframe['emp.var.rate'] <= -1.0), 'emp.var.rate'] = -1\n",
        "    dataframe.loc[(dataframe['emp.var.rate'] >= -0.9) & (dataframe['emp.var.rate'] <= 0.9), 'emp.var.rate'] = 0\n",
        "    dataframe.loc[(dataframe['emp.var.rate'] >= 1) & (dataframe['emp.var.rate'] <= 2.0), 'emp.var.rate'] = 1\n",
        "           \n",
        "    return dataframe"
      ],
      "execution_count": null,
      "outputs": []
    },
    {
      "cell_type": "code",
      "metadata": {
        "id": "JseDwP5ED024"
      },
      "source": [
        "emp_var_rate(Bank_model);"
      ],
      "execution_count": null,
      "outputs": []
    },
    {
      "cell_type": "code",
      "metadata": {
        "id": "iMKy53_eD024"
      },
      "source": [
        "def cons_conf_idx(dataframe):\n",
        "    dataframe.loc[dataframe['cons.conf.idx'] <= -50.0, 'cons.conf.idx'] = -50\n",
        "    dataframe.loc[(dataframe['cons.conf.idx'] >= -49.9) & (dataframe['cons.conf.idx'] <= -40), 'cons.conf.idx'] = -40\n",
        "    dataframe.loc[(dataframe['cons.conf.idx'] >= -39.9) & (dataframe['cons.conf.idx'] <= -30.0), 'cons.conf.idx'] = -30\n",
        "    dataframe.loc[(dataframe['cons.conf.idx'] >= -29.9) & (dataframe['cons.conf.idx'] <= 20.9), 'cons.conf.idx'] = -20\n",
        "           \n",
        "    return dataframe"
      ],
      "execution_count": null,
      "outputs": []
    },
    {
      "cell_type": "code",
      "metadata": {
        "id": "-g5TuxGhD025"
      },
      "source": [
        "cons_conf_idx(Bank_model);"
      ],
      "execution_count": null,
      "outputs": []
    },
    {
      "cell_type": "code",
      "metadata": {
        "id": "z9CStaWuD025",
        "outputId": "40ad914b-05b2-44dd-f200-2e4dd2e551d7"
      },
      "source": [
        "Bank_model.head()"
      ],
      "execution_count": null,
      "outputs": [
        {
          "output_type": "execute_result",
          "data": {
            "text/html": [
              "<div>\n",
              "<style scoped>\n",
              "    .dataframe tbody tr th:only-of-type {\n",
              "        vertical-align: middle;\n",
              "    }\n",
              "\n",
              "    .dataframe tbody tr th {\n",
              "        vertical-align: top;\n",
              "    }\n",
              "\n",
              "    .dataframe thead th {\n",
              "        text-align: right;\n",
              "    }\n",
              "</style>\n",
              "<table border=\"1\" class=\"dataframe\">\n",
              "  <thead>\n",
              "    <tr style=\"text-align: right;\">\n",
              "      <th></th>\n",
              "      <th>age</th>\n",
              "      <th>job</th>\n",
              "      <th>education</th>\n",
              "      <th>default</th>\n",
              "      <th>housing</th>\n",
              "      <th>loan</th>\n",
              "      <th>poutcome</th>\n",
              "      <th>emp.var.rate</th>\n",
              "      <th>cons.conf.idx</th>\n",
              "      <th>nr.employed</th>\n",
              "    </tr>\n",
              "  </thead>\n",
              "  <tbody>\n",
              "    <tr>\n",
              "      <th>0</th>\n",
              "      <td>56</td>\n",
              "      <td>4</td>\n",
              "      <td>1</td>\n",
              "      <td>1</td>\n",
              "      <td>1</td>\n",
              "      <td>1</td>\n",
              "      <td>2</td>\n",
              "      <td>1.0</td>\n",
              "      <td>-30.0</td>\n",
              "      <td>5191.0</td>\n",
              "    </tr>\n",
              "    <tr>\n",
              "      <th>1</th>\n",
              "      <td>57</td>\n",
              "      <td>8</td>\n",
              "      <td>4</td>\n",
              "      <td>3</td>\n",
              "      <td>1</td>\n",
              "      <td>1</td>\n",
              "      <td>2</td>\n",
              "      <td>1.0</td>\n",
              "      <td>-30.0</td>\n",
              "      <td>5191.0</td>\n",
              "    </tr>\n",
              "    <tr>\n",
              "      <th>2</th>\n",
              "      <td>37</td>\n",
              "      <td>8</td>\n",
              "      <td>4</td>\n",
              "      <td>1</td>\n",
              "      <td>2</td>\n",
              "      <td>1</td>\n",
              "      <td>2</td>\n",
              "      <td>1.0</td>\n",
              "      <td>-30.0</td>\n",
              "      <td>5191.0</td>\n",
              "    </tr>\n",
              "    <tr>\n",
              "      <th>3</th>\n",
              "      <td>40</td>\n",
              "      <td>1</td>\n",
              "      <td>2</td>\n",
              "      <td>1</td>\n",
              "      <td>1</td>\n",
              "      <td>1</td>\n",
              "      <td>2</td>\n",
              "      <td>1.0</td>\n",
              "      <td>-30.0</td>\n",
              "      <td>5191.0</td>\n",
              "    </tr>\n",
              "    <tr>\n",
              "      <th>4</th>\n",
              "      <td>56</td>\n",
              "      <td>8</td>\n",
              "      <td>4</td>\n",
              "      <td>1</td>\n",
              "      <td>1</td>\n",
              "      <td>2</td>\n",
              "      <td>2</td>\n",
              "      <td>1.0</td>\n",
              "      <td>-30.0</td>\n",
              "      <td>5191.0</td>\n",
              "    </tr>\n",
              "  </tbody>\n",
              "</table>\n",
              "</div>"
            ],
            "text/plain": [
              "   age  job  education  default  housing  loan  poutcome  emp.var.rate  \\\n",
              "0   56    4          1        1        1     1         2           1.0   \n",
              "1   57    8          4        3        1     1         2           1.0   \n",
              "2   37    8          4        1        2     1         2           1.0   \n",
              "3   40    1          2        1        1     1         2           1.0   \n",
              "4   56    8          4        1        1     2         2           1.0   \n",
              "\n",
              "   cons.conf.idx  nr.employed  \n",
              "0          -30.0       5191.0  \n",
              "1          -30.0       5191.0  \n",
              "2          -30.0       5191.0  \n",
              "3          -30.0       5191.0  \n",
              "4          -30.0       5191.0  "
            ]
          },
          "metadata": {
            "tags": []
          },
          "execution_count": 15
        }
      ]
    },
    {
      "cell_type": "code",
      "metadata": {
        "id": "Er72J8EaD025",
        "outputId": "d2512f6c-9262-4037-d19d-e51b2fa45948"
      },
      "source": [
        "Bank_model.dtypes"
      ],
      "execution_count": null,
      "outputs": [
        {
          "output_type": "execute_result",
          "data": {
            "text/plain": [
              "age                int64\n",
              "job                int64\n",
              "education          int64\n",
              "default            int64\n",
              "housing            int64\n",
              "loan               int64\n",
              "poutcome           int64\n",
              "emp.var.rate     float64\n",
              "cons.conf.idx    float64\n",
              "nr.employed      float64\n",
              "dtype: object"
            ]
          },
          "metadata": {
            "tags": []
          },
          "execution_count": 16
        }
      ]
    },
    {
      "cell_type": "code",
      "metadata": {
        "id": "NtN5CcEWD026",
        "outputId": "1c2782e4-ac83-4233-ede0-86d342d3752d"
      },
      "source": [
        "Bank_model.shape"
      ],
      "execution_count": null,
      "outputs": [
        {
          "output_type": "execute_result",
          "data": {
            "text/plain": [
              "(41188, 10)"
            ]
          },
          "metadata": {
            "tags": []
          },
          "execution_count": 17
        }
      ]
    },
    {
      "cell_type": "code",
      "metadata": {
        "id": "zcTdUDsrD026",
        "outputId": "1b405ee7-098b-48cd-8aa1-a44e08e5e8dd"
      },
      "source": [
        "Bank_model_target.shape"
      ],
      "execution_count": null,
      "outputs": [
        {
          "output_type": "execute_result",
          "data": {
            "text/plain": [
              "(41188, 1)"
            ]
          },
          "metadata": {
            "tags": []
          },
          "execution_count": 18
        }
      ]
    },
    {
      "cell_type": "code",
      "metadata": {
        "id": "6uixdo1OD026"
      },
      "source": [
        "#Making it an Array\n",
        "Bank_data= Bank_model.iloc[:,0:9].values\n",
        "\n",
        "Bank_model_target= Bank.iloc[:,[-1]].values"
      ],
      "execution_count": null,
      "outputs": []
    },
    {
      "cell_type": "code",
      "metadata": {
        "id": "qSV3uBg9D027",
        "outputId": "1e422f9a-f9bf-454c-950d-ec6c7dd9d6e4"
      },
      "source": [
        "Bank_data.shape"
      ],
      "execution_count": null,
      "outputs": [
        {
          "output_type": "execute_result",
          "data": {
            "text/plain": [
              "(41188L, 9L)"
            ]
          },
          "metadata": {
            "tags": []
          },
          "execution_count": 20
        }
      ]
    },
    {
      "cell_type": "code",
      "metadata": {
        "id": "nUfPX1CND027",
        "outputId": "93936846-21a7-4609-9950-2644aebd5048"
      },
      "source": [
        "Bank_model_target.shape"
      ],
      "execution_count": null,
      "outputs": [
        {
          "output_type": "execute_result",
          "data": {
            "text/plain": [
              "(41188L, 1L)"
            ]
          },
          "metadata": {
            "tags": []
          },
          "execution_count": 21
        }
      ]
    },
    {
      "cell_type": "code",
      "metadata": {
        "id": "E4DmCBZmD027",
        "outputId": "6d0cfe78-a21d-4e6e-ee04-87a1d9f9a52f"
      },
      "source": [
        "Bank_model_target.flatten()"
      ],
      "execution_count": null,
      "outputs": [
        {
          "output_type": "execute_result",
          "data": {
            "text/plain": [
              "array(['no', 'no', 'no', ..., 'no', 'yes', 'no'], dtype=object)"
            ]
          },
          "metadata": {
            "tags": []
          },
          "execution_count": 22
        }
      ]
    },
    {
      "cell_type": "code",
      "metadata": {
        "id": "3BbeX2NoD028",
        "outputId": "df15a830-df1d-4ced-e495-99d4e5cf17b6"
      },
      "source": [
        "Bank_data"
      ],
      "execution_count": null,
      "outputs": [
        {
          "output_type": "execute_result",
          "data": {
            "text/plain": [
              "array([[ 56.,   4.,   1., ...,   2.,   1., -30.],\n",
              "       [ 57.,   8.,   4., ...,   2.,   1., -30.],\n",
              "       [ 37.,   8.,   4., ...,   2.,   1., -30.],\n",
              "       ...,\n",
              "       [ 56.,   6.,   7., ...,   2.,  -1., -50.],\n",
              "       [ 44.,  10.,   6., ...,   2.,  -1., -50.],\n",
              "       [ 74.,   6.,   6., ...,   1.,  -1., -50.]])"
            ]
          },
          "metadata": {
            "tags": []
          },
          "execution_count": 23
        }
      ]
    },
    {
      "cell_type": "code",
      "metadata": {
        "id": "xwsFUGuUD028",
        "outputId": "72987b58-d644-428a-cab7-0f34ef316362"
      },
      "source": [
        "Bank_model_target"
      ],
      "execution_count": null,
      "outputs": [
        {
          "output_type": "execute_result",
          "data": {
            "text/plain": [
              "array([['no'],\n",
              "       ['no'],\n",
              "       ['no'],\n",
              "       ...,\n",
              "       ['no'],\n",
              "       ['yes'],\n",
              "       ['no']], dtype=object)"
            ]
          },
          "metadata": {
            "tags": []
          },
          "execution_count": 24
        }
      ]
    },
    {
      "cell_type": "markdown",
      "metadata": {
        "id": "lHgn-_yoD028"
      },
      "source": [
        "### K - Nearest Neighbour"
      ]
    },
    {
      "cell_type": "code",
      "metadata": {
        "id": "B-USU6NMD029"
      },
      "source": [
        "from sklearn.model_selection import train_test_split\n",
        "from sklearn.neighbors import KNeighborsClassifier\n",
        "from sklearn.metrics import confusion_matrix, classification_report,accuracy_score\n",
        "from sklearn.utils import shuffle"
      ],
      "execution_count": null,
      "outputs": []
    },
    {
      "cell_type": "code",
      "metadata": {
        "id": "--YrKNjBD029",
        "outputId": "c08204f0-63bf-4d13-9c14-5e0899f56613"
      },
      "source": [
        "for k_val in range(30,61,2):\n",
        "    X_train, X_test, Y_train, Y_test = train_test_split(Bank_data,Bank_model_target, test_size = 0.50, random_state = 10);\n",
        "    clf = KNeighborsClassifier(k_val);\n",
        "    fit = clf.fit(X_train, Y_train.ravel());\n",
        "    y_pre = fit.predict(X_test);\n",
        "    cm = confusion_matrix(Y_test, y_pre);\n",
        "    print k_val;\n",
        "    print cm;\n",
        "    print classification_report(Y_test,y_pre)\n",
        "    print(round(accuracy_score(Y_test, y_pre),2)*100)"
      ],
      "execution_count": null,
      "outputs": [
        {
          "output_type": "stream",
          "text": [
            "30\n",
            "[[18146   121]\n",
            " [ 2196   131]]\n",
            "              precision    recall  f1-score   support\n",
            "\n",
            "          no       0.89      0.99      0.94     18267\n",
            "         yes       0.52      0.06      0.10      2327\n",
            "\n",
            "   micro avg       0.89      0.89      0.89     20594\n",
            "   macro avg       0.71      0.52      0.52     20594\n",
            "weighted avg       0.85      0.89      0.85     20594\n",
            "\n",
            "89.0\n",
            "32\n",
            "[[18142   125]\n",
            " [ 2192   135]]\n",
            "              precision    recall  f1-score   support\n",
            "\n",
            "          no       0.89      0.99      0.94     18267\n",
            "         yes       0.52      0.06      0.10      2327\n",
            "\n",
            "   micro avg       0.89      0.89      0.89     20594\n",
            "   macro avg       0.71      0.53      0.52     20594\n",
            "weighted avg       0.85      0.89      0.85     20594\n",
            "\n",
            "89.0\n",
            "34\n",
            "[[18156   111]\n",
            " [ 2205   122]]\n",
            "              precision    recall  f1-score   support\n",
            "\n",
            "          no       0.89      0.99      0.94     18267\n",
            "         yes       0.52      0.05      0.10      2327\n",
            "\n",
            "   micro avg       0.89      0.89      0.89     20594\n",
            "   macro avg       0.71      0.52      0.52     20594\n",
            "weighted avg       0.85      0.89      0.84     20594\n",
            "\n",
            "89.0\n",
            "36\n",
            "[[18171    96]\n",
            " [ 2214   113]]\n",
            "              precision    recall  f1-score   support\n",
            "\n",
            "          no       0.89      0.99      0.94     18267\n",
            "         yes       0.54      0.05      0.09      2327\n",
            "\n",
            "   micro avg       0.89      0.89      0.89     20594\n",
            "   macro avg       0.72      0.52      0.51     20594\n",
            "weighted avg       0.85      0.89      0.84     20594\n",
            "\n",
            "89.0\n",
            "38\n",
            "[[18178    89]\n",
            " [ 2229    98]]\n",
            "              precision    recall  f1-score   support\n",
            "\n",
            "          no       0.89      1.00      0.94     18267\n",
            "         yes       0.52      0.04      0.08      2327\n",
            "\n",
            "   micro avg       0.89      0.89      0.89     20594\n",
            "   macro avg       0.71      0.52      0.51     20594\n",
            "weighted avg       0.85      0.89      0.84     20594\n",
            "\n",
            "89.0\n",
            "40\n",
            "[[18172    95]\n",
            " [ 2236    91]]\n",
            "              precision    recall  f1-score   support\n",
            "\n",
            "          no       0.89      0.99      0.94     18267\n",
            "         yes       0.49      0.04      0.07      2327\n",
            "\n",
            "   micro avg       0.89      0.89      0.89     20594\n",
            "   macro avg       0.69      0.52      0.51     20594\n",
            "weighted avg       0.85      0.89      0.84     20594\n",
            "\n",
            "89.0\n",
            "42\n",
            "[[18189    78]\n",
            " [ 2240    87]]\n",
            "              precision    recall  f1-score   support\n",
            "\n",
            "          no       0.89      1.00      0.94     18267\n",
            "         yes       0.53      0.04      0.07      2327\n",
            "\n",
            "   micro avg       0.89      0.89      0.89     20594\n",
            "   macro avg       0.71      0.52      0.50     20594\n",
            "weighted avg       0.85      0.89      0.84     20594\n",
            "\n",
            "89.0\n",
            "44\n",
            "[[18186    81]\n",
            " [ 2234    93]]\n",
            "              precision    recall  f1-score   support\n",
            "\n",
            "          no       0.89      1.00      0.94     18267\n",
            "         yes       0.53      0.04      0.07      2327\n",
            "\n",
            "   micro avg       0.89      0.89      0.89     20594\n",
            "   macro avg       0.71      0.52      0.51     20594\n",
            "weighted avg       0.85      0.89      0.84     20594\n",
            "\n",
            "89.0\n",
            "46\n",
            "[[18195    72]\n",
            " [ 2236    91]]\n",
            "              precision    recall  f1-score   support\n",
            "\n",
            "          no       0.89      1.00      0.94     18267\n",
            "         yes       0.56      0.04      0.07      2327\n",
            "\n",
            "   micro avg       0.89      0.89      0.89     20594\n",
            "   macro avg       0.72      0.52      0.51     20594\n",
            "weighted avg       0.85      0.89      0.84     20594\n",
            "\n",
            "89.0\n",
            "48\n",
            "[[18191    76]\n",
            " [ 2248    79]]\n",
            "              precision    recall  f1-score   support\n",
            "\n",
            "          no       0.89      1.00      0.94     18267\n",
            "         yes       0.51      0.03      0.06      2327\n",
            "\n",
            "   micro avg       0.89      0.89      0.89     20594\n",
            "   macro avg       0.70      0.51      0.50     20594\n",
            "weighted avg       0.85      0.89      0.84     20594\n",
            "\n",
            "89.0\n",
            "50\n",
            "[[18196    71]\n",
            " [ 2250    77]]\n",
            "              precision    recall  f1-score   support\n",
            "\n",
            "          no       0.89      1.00      0.94     18267\n",
            "         yes       0.52      0.03      0.06      2327\n",
            "\n",
            "   micro avg       0.89      0.89      0.89     20594\n",
            "   macro avg       0.71      0.51      0.50     20594\n",
            "weighted avg       0.85      0.89      0.84     20594\n",
            "\n",
            "89.0\n",
            "52\n",
            "[[18198    69]\n",
            " [ 2252    75]]\n",
            "              precision    recall  f1-score   support\n",
            "\n",
            "          no       0.89      1.00      0.94     18267\n",
            "         yes       0.52      0.03      0.06      2327\n",
            "\n",
            "   micro avg       0.89      0.89      0.89     20594\n",
            "   macro avg       0.71      0.51      0.50     20594\n",
            "weighted avg       0.85      0.89      0.84     20594\n",
            "\n",
            "89.0\n",
            "54\n",
            "[[18204    63]\n",
            " [ 2258    69]]\n",
            "              precision    recall  f1-score   support\n",
            "\n",
            "          no       0.89      1.00      0.94     18267\n",
            "         yes       0.52      0.03      0.06      2327\n",
            "\n",
            "   micro avg       0.89      0.89      0.89     20594\n",
            "   macro avg       0.71      0.51      0.50     20594\n",
            "weighted avg       0.85      0.89      0.84     20594\n",
            "\n",
            "89.0\n",
            "56\n",
            "[[18203    64]\n",
            " [ 2261    66]]\n",
            "              precision    recall  f1-score   support\n",
            "\n",
            "          no       0.89      1.00      0.94     18267\n",
            "         yes       0.51      0.03      0.05      2327\n",
            "\n",
            "   micro avg       0.89      0.89      0.89     20594\n",
            "   macro avg       0.70      0.51      0.50     20594\n",
            "weighted avg       0.85      0.89      0.84     20594\n",
            "\n",
            "89.0\n",
            "58\n",
            "[[18208    59]\n",
            " [ 2266    61]]\n",
            "              precision    recall  f1-score   support\n",
            "\n",
            "          no       0.89      1.00      0.94     18267\n",
            "         yes       0.51      0.03      0.05      2327\n",
            "\n",
            "   micro avg       0.89      0.89      0.89     20594\n",
            "   macro avg       0.70      0.51      0.49     20594\n",
            "weighted avg       0.85      0.89      0.84     20594\n",
            "\n",
            "89.0\n",
            "60\n",
            "[[18211    56]\n",
            " [ 2268    59]]\n",
            "              precision    recall  f1-score   support\n",
            "\n",
            "          no       0.89      1.00      0.94     18267\n",
            "         yes       0.51      0.03      0.05      2327\n",
            "\n",
            "   micro avg       0.89      0.89      0.89     20594\n",
            "   macro avg       0.70      0.51      0.49     20594\n",
            "weighted avg       0.85      0.89      0.84     20594\n",
            "\n",
            "89.0\n"
          ],
          "name": "stdout"
        }
      ]
    },
    {
      "cell_type": "code",
      "metadata": {
        "id": "h3xUaqChD02-",
        "outputId": "bcf45523-55cf-452c-9786-50257544df0f"
      },
      "source": [
        "new_Ind = []\n",
        "cur_MaxScore = 0.0\n",
        "col_num = 9\n",
        "col_Ind_Random = shuffle(range(0,col_num),random_state=30)\n",
        "for cur_f in range(0,col_num):\n",
        "    new_Ind.append(col_Ind_Random[cur_f])\n",
        "    newData = Bank_data[:,new_Ind]\n",
        "    X_train, X_test, Y_train, Y_test = train_test_split(newData,Bank_model_target, test_size = 0.50, random_state = 0);\n",
        "    clf = KNeighborsClassifier(46);\n",
        "    fit = clf.fit(X_train, Y_train.ravel())\n",
        "    cur_Score = clf.score(X_test, Y_test);\n",
        "    if cur_Score < cur_MaxScore:\n",
        "        new_Ind.remove(col_Ind_Random[cur_f])\n",
        "    else:\n",
        "        cur_MaxScore =cur_Score\n",
        "        print \"Score with \" + str(len(new_Ind)) + \" Selected features: \" +str(cur_Score)\n",
        "        cm = confusion_matrix(Y_test, y_pre);\n",
        "        print cm"
      ],
      "execution_count": null,
      "outputs": [
        {
          "output_type": "stream",
          "text": [
            "Score with 1 Selected features: 0.8881713120326309\n",
            "[[18186   105]\n",
            " [ 2293    10]]\n",
            "Score with 2 Selected features: 0.8881713120326309\n",
            "[[18186   105]\n",
            " [ 2293    10]]\n",
            "Score with 3 Selected features: 0.8881713120326309\n",
            "[[18186   105]\n",
            " [ 2293    10]]\n",
            "Score with 4 Selected features: 0.8885112168592794\n",
            "[[18186   105]\n",
            " [ 2293    10]]\n",
            "Score with 5 Selected features: 0.8886568903564145\n",
            "[[18186   105]\n",
            " [ 2293    10]]\n"
          ],
          "name": "stdout"
        }
      ]
    },
    {
      "cell_type": "code",
      "metadata": {
        "id": "P-56ZZUID02-",
        "outputId": "562ca167-90ee-4529-828a-ec4e6351a76f"
      },
      "source": [
        "print new_Ind"
      ],
      "execution_count": null,
      "outputs": [
        {
          "output_type": "stream",
          "text": [
            "[3, 1, 2, 0, 5]\n"
          ],
          "name": "stdout"
        }
      ]
    },
    {
      "cell_type": "code",
      "metadata": {
        "id": "3mKL_mOED02_"
      },
      "source": [
        "Bank_Selected_features = Bank_model.iloc[:,[3,1,4,6]].values"
      ],
      "execution_count": null,
      "outputs": []
    },
    {
      "cell_type": "code",
      "metadata": {
        "id": "hDo8vkUiD02_",
        "outputId": "b006ce2b-5d6e-4cc9-f3ee-5cceac053471"
      },
      "source": [
        "X_train, X_test, Y_train, Y_test = train_test_split(Bank_Selected_features,Bank_model_target, test_size = 0.50, random_state = 0);\n",
        "clf = KNeighborsClassifier(46);\n",
        "fit = clf.fit(X_train, Y_train.ravel());\n",
        "y_pre = fit.predict(X_test);\n",
        "cm = confusion_matrix(Y_test, y_pre);\n",
        "print cm;\n",
        "print classification_report(Y_test,y_pre)\n",
        "print (round(accuracy_score(Y_test, y_pre),2)*100)"
      ],
      "execution_count": null,
      "outputs": [
        {
          "output_type": "stream",
          "text": [
            "[[18131   160]\n",
            " [ 1979   324]]\n",
            "              precision    recall  f1-score   support\n",
            "\n",
            "          no       0.90      0.99      0.94     18291\n",
            "         yes       0.67      0.14      0.23      2303\n",
            "\n",
            "   micro avg       0.90      0.90      0.90     20594\n",
            "   macro avg       0.79      0.57      0.59     20594\n",
            "weighted avg       0.88      0.90      0.86     20594\n",
            "\n",
            "90.0\n"
          ],
          "name": "stdout"
        }
      ]
    },
    {
      "cell_type": "markdown",
      "metadata": {
        "id": "KtUkuaydD02_"
      },
      "source": [
        "##### For test_size 40%"
      ]
    },
    {
      "cell_type": "code",
      "metadata": {
        "id": "uG5gDCoUD03A",
        "outputId": "88831f2c-50da-455e-c683-7f37889229e2"
      },
      "source": [
        "for k_val in range(30,61,2):\n",
        "    X_train, X_test, Y_train, Y_test = train_test_split(Bank_data,Bank_model_target, test_size = 0.40, random_state = 10);\n",
        "    clf = KNeighborsClassifier(k_val);\n",
        "    fit = clf.fit(X_train, Y_train.ravel());\n",
        "    y_pre = fit.predict(X_test);\n",
        "    cm = confusion_matrix(Y_test, y_pre);\n",
        "    print k_val;\n",
        "    print cm;\n",
        "    print classification_report(Y_test,y_pre)\n",
        "    cur_Score = clf.score(X_test, Y_test);\n",
        "    print(round(accuracy_score(Y_test, y_pre),2)*100)"
      ],
      "execution_count": null,
      "outputs": [
        {
          "output_type": "stream",
          "text": [
            "30\n",
            "[[14505   102]\n",
            " [ 1753   116]]\n",
            "              precision    recall  f1-score   support\n",
            "\n",
            "          no       0.89      0.99      0.94     14607\n",
            "         yes       0.53      0.06      0.11      1869\n",
            "\n",
            "   micro avg       0.89      0.89      0.89     16476\n",
            "   macro avg       0.71      0.53      0.53     16476\n",
            "weighted avg       0.85      0.89      0.85     16476\n",
            "\n",
            "89.0\n",
            "32\n",
            "[[14507   100]\n",
            " [ 1760   109]]\n",
            "              precision    recall  f1-score   support\n",
            "\n",
            "          no       0.89      0.99      0.94     14607\n",
            "         yes       0.52      0.06      0.10      1869\n",
            "\n",
            "   micro avg       0.89      0.89      0.89     16476\n",
            "   macro avg       0.71      0.53      0.52     16476\n",
            "weighted avg       0.85      0.89      0.85     16476\n",
            "\n",
            "89.0\n",
            "34\n",
            "[[14507   100]\n",
            " [ 1766   103]]\n",
            "              precision    recall  f1-score   support\n",
            "\n",
            "          no       0.89      0.99      0.94     14607\n",
            "         yes       0.51      0.06      0.10      1869\n",
            "\n",
            "   micro avg       0.89      0.89      0.89     16476\n",
            "   macro avg       0.70      0.52      0.52     16476\n",
            "weighted avg       0.85      0.89      0.84     16476\n",
            "\n",
            "89.0\n",
            "36\n",
            "[[14517    90]\n",
            " [ 1769   100]]\n",
            "              precision    recall  f1-score   support\n",
            "\n",
            "          no       0.89      0.99      0.94     14607\n",
            "         yes       0.53      0.05      0.10      1869\n",
            "\n",
            "   micro avg       0.89      0.89      0.89     16476\n",
            "   macro avg       0.71      0.52      0.52     16476\n",
            "weighted avg       0.85      0.89      0.84     16476\n",
            "\n",
            "89.0\n",
            "38\n",
            "[[14525    82]\n",
            " [ 1779    90]]\n",
            "              precision    recall  f1-score   support\n",
            "\n",
            "          no       0.89      0.99      0.94     14607\n",
            "         yes       0.52      0.05      0.09      1869\n",
            "\n",
            "   micro avg       0.89      0.89      0.89     16476\n",
            "   macro avg       0.71      0.52      0.51     16476\n",
            "weighted avg       0.85      0.89      0.84     16476\n",
            "\n",
            "89.0\n",
            "40\n",
            "[[14531    76]\n",
            " [ 1781    88]]\n",
            "              precision    recall  f1-score   support\n",
            "\n",
            "          no       0.89      0.99      0.94     14607\n",
            "         yes       0.54      0.05      0.09      1869\n",
            "\n",
            "   micro avg       0.89      0.89      0.89     16476\n",
            "   macro avg       0.71      0.52      0.51     16476\n",
            "weighted avg       0.85      0.89      0.84     16476\n",
            "\n",
            "89.0\n",
            "42\n",
            "[[14529    78]\n",
            " [ 1793    76]]\n",
            "              precision    recall  f1-score   support\n",
            "\n",
            "          no       0.89      0.99      0.94     14607\n",
            "         yes       0.49      0.04      0.08      1869\n",
            "\n",
            "   micro avg       0.89      0.89      0.89     16476\n",
            "   macro avg       0.69      0.52      0.51     16476\n",
            "weighted avg       0.85      0.89      0.84     16476\n",
            "\n",
            "89.0\n",
            "44\n",
            "[[14539    68]\n",
            " [ 1803    66]]\n",
            "              precision    recall  f1-score   support\n",
            "\n",
            "          no       0.89      1.00      0.94     14607\n",
            "         yes       0.49      0.04      0.07      1869\n",
            "\n",
            "   micro avg       0.89      0.89      0.89     16476\n",
            "   macro avg       0.69      0.52      0.50     16476\n",
            "weighted avg       0.84      0.89      0.84     16476\n",
            "\n",
            "89.0\n",
            "46\n",
            "[[14543    64]\n",
            " [ 1806    63]]\n",
            "              precision    recall  f1-score   support\n",
            "\n",
            "          no       0.89      1.00      0.94     14607\n",
            "         yes       0.50      0.03      0.06      1869\n",
            "\n",
            "   micro avg       0.89      0.89      0.89     16476\n",
            "   macro avg       0.69      0.51      0.50     16476\n",
            "weighted avg       0.84      0.89      0.84     16476\n",
            "\n",
            "89.0\n",
            "48\n",
            "[[14547    60]\n",
            " [ 1806    63]]\n",
            "              precision    recall  f1-score   support\n",
            "\n",
            "          no       0.89      1.00      0.94     14607\n",
            "         yes       0.51      0.03      0.06      1869\n",
            "\n",
            "   micro avg       0.89      0.89      0.89     16476\n",
            "   macro avg       0.70      0.51      0.50     16476\n",
            "weighted avg       0.85      0.89      0.84     16476\n",
            "\n",
            "89.0\n",
            "50\n",
            "[[14555    52]\n",
            " [ 1803    66]]\n",
            "              precision    recall  f1-score   support\n",
            "\n",
            "          no       0.89      1.00      0.94     14607\n",
            "         yes       0.56      0.04      0.07      1869\n",
            "\n",
            "   micro avg       0.89      0.89      0.89     16476\n",
            "   macro avg       0.72      0.52      0.50     16476\n",
            "weighted avg       0.85      0.89      0.84     16476\n",
            "\n",
            "89.0\n",
            "52\n",
            "[[14552    55]\n",
            " [ 1808    61]]\n",
            "              precision    recall  f1-score   support\n",
            "\n",
            "          no       0.89      1.00      0.94     14607\n",
            "         yes       0.53      0.03      0.06      1869\n",
            "\n",
            "   micro avg       0.89      0.89      0.89     16476\n",
            "   macro avg       0.71      0.51      0.50     16476\n",
            "weighted avg       0.85      0.89      0.84     16476\n",
            "\n",
            "89.0\n",
            "54\n",
            "[[14562    45]\n",
            " [ 1812    57]]\n",
            "              precision    recall  f1-score   support\n",
            "\n",
            "          no       0.89      1.00      0.94     14607\n",
            "         yes       0.56      0.03      0.06      1869\n",
            "\n",
            "   micro avg       0.89      0.89      0.89     16476\n",
            "   macro avg       0.72      0.51      0.50     16476\n",
            "weighted avg       0.85      0.89      0.84     16476\n",
            "\n",
            "89.0\n",
            "56\n",
            "[[14560    47]\n",
            " [ 1813    56]]\n",
            "              precision    recall  f1-score   support\n",
            "\n",
            "          no       0.89      1.00      0.94     14607\n",
            "         yes       0.54      0.03      0.06      1869\n",
            "\n",
            "   micro avg       0.89      0.89      0.89     16476\n",
            "   macro avg       0.72      0.51      0.50     16476\n",
            "weighted avg       0.85      0.89      0.84     16476\n",
            "\n",
            "89.0\n",
            "58\n",
            "[[14556    51]\n",
            " [ 1809    60]]\n",
            "              precision    recall  f1-score   support\n",
            "\n",
            "          no       0.89      1.00      0.94     14607\n",
            "         yes       0.54      0.03      0.06      1869\n",
            "\n",
            "   micro avg       0.89      0.89      0.89     16476\n",
            "   macro avg       0.71      0.51      0.50     16476\n",
            "weighted avg       0.85      0.89      0.84     16476\n",
            "\n",
            "89.0\n",
            "60\n",
            "[[14561    46]\n",
            " [ 1812    57]]\n",
            "              precision    recall  f1-score   support\n",
            "\n",
            "          no       0.89      1.00      0.94     14607\n",
            "         yes       0.55      0.03      0.06      1869\n",
            "\n",
            "   micro avg       0.89      0.89      0.89     16476\n",
            "   macro avg       0.72      0.51      0.50     16476\n",
            "weighted avg       0.85      0.89      0.84     16476\n",
            "\n",
            "89.0\n"
          ],
          "name": "stdout"
        }
      ]
    },
    {
      "cell_type": "code",
      "metadata": {
        "id": "9hTW8Id1D03A",
        "outputId": "5c8c2dc6-51e9-44b2-bb10-d3c1680805d0"
      },
      "source": [
        "new_Ind = []\n",
        "cur_MaxScore = 0.0\n",
        "col_num = 9\n",
        "col_Ind_Random = shuffle(range(0,col_num),random_state=30)\n",
        "for cur_f in range(0,col_num):\n",
        "    new_Ind.append(col_Ind_Random[cur_f])\n",
        "    newData = Bank_data[:,new_Ind]\n",
        "    X_train, X_test, Y_train, Y_test = train_test_split(newData,Bank_model_target, test_size = 0.40, random_state = 0);\n",
        "    clf = KNeighborsClassifier(50);\n",
        "    fit = clf.fit(X_train, Y_train.ravel())\n",
        "    cur_Score = clf.score(X_test, Y_test);\n",
        "    if cur_Score < cur_MaxScore:\n",
        "        new_Ind.remove(col_Ind_Random[cur_f])\n",
        "    else:\n",
        "        cur_MaxScore =cur_Score\n",
        "        print \"Score with \" + str(len(new_Ind)) + \" Selected features: \" +str(cur_Score)\n",
        "        cm = confusion_matrix(Y_test, y_pre);\n",
        "        print cm"
      ],
      "execution_count": null,
      "outputs": [
        {
          "output_type": "stream",
          "text": [
            "Score with 1 Selected features: 0.8894756008739986\n",
            "[[14557    98]\n",
            " [ 1816     5]]\n",
            "Score with 2 Selected features: 0.8894756008739986\n",
            "[[14557    98]\n",
            " [ 1816     5]]\n",
            "Score with 3 Selected features: 0.8894756008739986\n",
            "[[14557    98]\n",
            " [ 1816     5]]\n",
            "Score with 4 Selected features: 0.889900461277009\n",
            "[[14557    98]\n",
            " [ 1816     5]]\n",
            "Score with 5 Selected features: 0.8905680990531682\n",
            "[[14557    98]\n",
            " [ 1816     5]]\n"
          ],
          "name": "stdout"
        }
      ]
    },
    {
      "cell_type": "code",
      "metadata": {
        "id": "F5mVGB7tD03A",
        "outputId": "817d51fe-3ed5-4833-bb7e-e123036924d1"
      },
      "source": [
        "print new_Ind"
      ],
      "execution_count": null,
      "outputs": [
        {
          "output_type": "stream",
          "text": [
            "[3, 1, 2, 0, 6]\n"
          ],
          "name": "stdout"
        }
      ]
    },
    {
      "cell_type": "code",
      "metadata": {
        "id": "9z4nRV6BD03B"
      },
      "source": [
        "Bank_Selected_features = Bank_model.iloc[:,[3,1,4,6,7]].values"
      ],
      "execution_count": null,
      "outputs": []
    },
    {
      "cell_type": "code",
      "metadata": {
        "id": "mrPNruouD03B",
        "outputId": "d3ad3ecd-f439-4bfd-950c-cf22fabee861"
      },
      "source": [
        "X_train, X_test, Y_train, Y_test = train_test_split(Bank_Selected_features,Bank_model_target, test_size = 0.40, random_state = 0);\n",
        "clf = KNeighborsClassifier(50);\n",
        "fit = clf.fit(X_train, Y_train.ravel());\n",
        "y_pre = fit.predict(X_test);\n",
        "cm = confusion_matrix(Y_test, y_pre);\n",
        "print cm;\n",
        "print classification_report(Y_test,y_pre)\n",
        "print (round(accuracy_score(Y_test, y_pre),2)*100)"
      ],
      "execution_count": null,
      "outputs": [
        {
          "output_type": "stream",
          "text": [
            "[[14532   123]\n",
            " [ 1549   272]]\n",
            "              precision    recall  f1-score   support\n",
            "\n",
            "          no       0.90      0.99      0.95     14655\n",
            "         yes       0.69      0.15      0.25      1821\n",
            "\n",
            "   micro avg       0.90      0.90      0.90     16476\n",
            "   macro avg       0.80      0.57      0.60     16476\n",
            "weighted avg       0.88      0.90      0.87     16476\n",
            "\n",
            "90.0\n"
          ],
          "name": "stdout"
        }
      ]
    },
    {
      "cell_type": "markdown",
      "metadata": {
        "id": "QG3kfqxZD03B"
      },
      "source": [
        "##### For test_size 20%"
      ]
    },
    {
      "cell_type": "code",
      "metadata": {
        "id": "J6BoXOvhD03B",
        "outputId": "5a14c07d-0e21-4cb0-c093-9c4a4f743ff5"
      },
      "source": [
        "for k_val in range(30,61,2):\n",
        "    X_train, X_test, Y_train, Y_test = train_test_split(Bank_data,Bank_model_target, test_size = 0.20, random_state = 0);\n",
        "    clf = KNeighborsClassifier(k_val);\n",
        "    fit = clf.fit(X_train, Y_train.ravel());\n",
        "    y_pre = fit.predict(X_test);\n",
        "    cm = confusion_matrix(Y_test, y_pre);\n",
        "    print k_val;\n",
        "    print cm;\n",
        "    print classification_report(Y_test,y_pre)\n",
        "    cur_Score = clf.score(X_test, Y_test);\n",
        "    print (round(accuracy_score(Y_test, y_pre),2)*100)"
      ],
      "execution_count": null,
      "outputs": [
        {
          "output_type": "stream",
          "text": [
            "30\n",
            "[[7256   63]\n",
            " [ 853   66]]\n",
            "              precision    recall  f1-score   support\n",
            "\n",
            "          no       0.89      0.99      0.94      7319\n",
            "         yes       0.51      0.07      0.13       919\n",
            "\n",
            "   micro avg       0.89      0.89      0.89      8238\n",
            "   macro avg       0.70      0.53      0.53      8238\n",
            "weighted avg       0.85      0.89      0.85      8238\n",
            "\n",
            "89.0\n",
            "32\n",
            "[[7258   61]\n",
            " [ 854   65]]\n",
            "              precision    recall  f1-score   support\n",
            "\n",
            "          no       0.89      0.99      0.94      7319\n",
            "         yes       0.52      0.07      0.12       919\n",
            "\n",
            "   micro avg       0.89      0.89      0.89      8238\n",
            "   macro avg       0.71      0.53      0.53      8238\n",
            "weighted avg       0.85      0.89      0.85      8238\n",
            "\n",
            "89.0\n",
            "34\n",
            "[[7258   61]\n",
            " [ 861   58]]\n",
            "              precision    recall  f1-score   support\n",
            "\n",
            "          no       0.89      0.99      0.94      7319\n",
            "         yes       0.49      0.06      0.11       919\n",
            "\n",
            "   micro avg       0.89      0.89      0.89      8238\n",
            "   macro avg       0.69      0.53      0.53      8238\n",
            "weighted avg       0.85      0.89      0.85      8238\n",
            "\n",
            "89.0\n",
            "36\n",
            "[[7269   50]\n",
            " [ 861   58]]\n",
            "              precision    recall  f1-score   support\n",
            "\n",
            "          no       0.89      0.99      0.94      7319\n",
            "         yes       0.54      0.06      0.11       919\n",
            "\n",
            "   micro avg       0.89      0.89      0.89      8238\n",
            "   macro avg       0.72      0.53      0.53      8238\n",
            "weighted avg       0.85      0.89      0.85      8238\n",
            "\n",
            "89.0\n",
            "38\n",
            "[[7271   48]\n",
            " [ 859   60]]\n",
            "              precision    recall  f1-score   support\n",
            "\n",
            "          no       0.89      0.99      0.94      7319\n",
            "         yes       0.56      0.07      0.12       919\n",
            "\n",
            "   micro avg       0.89      0.89      0.89      8238\n",
            "   macro avg       0.72      0.53      0.53      8238\n",
            "weighted avg       0.86      0.89      0.85      8238\n",
            "\n",
            "89.0\n",
            "40\n",
            "[[7271   48]\n",
            " [ 856   63]]\n",
            "              precision    recall  f1-score   support\n",
            "\n",
            "          no       0.89      0.99      0.94      7319\n",
            "         yes       0.57      0.07      0.12       919\n",
            "\n",
            "   micro avg       0.89      0.89      0.89      8238\n",
            "   macro avg       0.73      0.53      0.53      8238\n",
            "weighted avg       0.86      0.89      0.85      8238\n",
            "\n",
            "89.0\n",
            "42\n",
            "[[7272   47]\n",
            " [ 860   59]]\n",
            "              precision    recall  f1-score   support\n",
            "\n",
            "          no       0.89      0.99      0.94      7319\n",
            "         yes       0.56      0.06      0.12       919\n",
            "\n",
            "   micro avg       0.89      0.89      0.89      8238\n",
            "   macro avg       0.73      0.53      0.53      8238\n",
            "weighted avg       0.86      0.89      0.85      8238\n",
            "\n",
            "89.0\n",
            "44\n",
            "[[7273   46]\n",
            " [ 866   53]]\n",
            "              precision    recall  f1-score   support\n",
            "\n",
            "          no       0.89      0.99      0.94      7319\n",
            "         yes       0.54      0.06      0.10       919\n",
            "\n",
            "   micro avg       0.89      0.89      0.89      8238\n",
            "   macro avg       0.71      0.53      0.52      8238\n",
            "weighted avg       0.85      0.89      0.85      8238\n",
            "\n",
            "89.0\n",
            "46\n",
            "[[7280   39]\n",
            " [ 869   50]]\n",
            "              precision    recall  f1-score   support\n",
            "\n",
            "          no       0.89      0.99      0.94      7319\n",
            "         yes       0.56      0.05      0.10       919\n",
            "\n",
            "   micro avg       0.89      0.89      0.89      8238\n",
            "   macro avg       0.73      0.52      0.52      8238\n",
            "weighted avg       0.86      0.89      0.85      8238\n",
            "\n",
            "89.0\n",
            "48\n",
            "[[7284   35]\n",
            " [ 871   48]]\n",
            "              precision    recall  f1-score   support\n",
            "\n",
            "          no       0.89      1.00      0.94      7319\n",
            "         yes       0.58      0.05      0.10       919\n",
            "\n",
            "   micro avg       0.89      0.89      0.89      8238\n",
            "   macro avg       0.74      0.52      0.52      8238\n",
            "weighted avg       0.86      0.89      0.85      8238\n",
            "\n",
            "89.0\n",
            "50\n",
            "[[7285   34]\n",
            " [ 870   49]]\n",
            "              precision    recall  f1-score   support\n",
            "\n",
            "          no       0.89      1.00      0.94      7319\n",
            "         yes       0.59      0.05      0.10       919\n",
            "\n",
            "   micro avg       0.89      0.89      0.89      8238\n",
            "   macro avg       0.74      0.52      0.52      8238\n",
            "weighted avg       0.86      0.89      0.85      8238\n",
            "\n",
            "89.0\n",
            "52\n",
            "[[7283   36]\n",
            " [ 877   42]]\n",
            "              precision    recall  f1-score   support\n",
            "\n",
            "          no       0.89      1.00      0.94      7319\n",
            "         yes       0.54      0.05      0.08       919\n",
            "\n",
            "   micro avg       0.89      0.89      0.89      8238\n",
            "   macro avg       0.72      0.52      0.51      8238\n",
            "weighted avg       0.85      0.89      0.85      8238\n",
            "\n",
            "89.0\n",
            "54\n",
            "[[7283   36]\n",
            " [ 878   41]]\n",
            "              precision    recall  f1-score   support\n",
            "\n",
            "          no       0.89      1.00      0.94      7319\n",
            "         yes       0.53      0.04      0.08       919\n",
            "\n",
            "   micro avg       0.89      0.89      0.89      8238\n",
            "   macro avg       0.71      0.52      0.51      8238\n",
            "weighted avg       0.85      0.89      0.85      8238\n",
            "\n",
            "89.0\n",
            "56\n",
            "[[7283   36]\n",
            " [ 878   41]]\n",
            "              precision    recall  f1-score   support\n",
            "\n",
            "          no       0.89      1.00      0.94      7319\n",
            "         yes       0.53      0.04      0.08       919\n",
            "\n",
            "   micro avg       0.89      0.89      0.89      8238\n",
            "   macro avg       0.71      0.52      0.51      8238\n",
            "weighted avg       0.85      0.89      0.85      8238\n",
            "\n",
            "89.0\n",
            "58\n",
            "[[7287   32]\n",
            " [ 874   45]]\n",
            "              precision    recall  f1-score   support\n",
            "\n",
            "          no       0.89      1.00      0.94      7319\n",
            "         yes       0.58      0.05      0.09       919\n",
            "\n",
            "   micro avg       0.89      0.89      0.89      8238\n",
            "   macro avg       0.74      0.52      0.52      8238\n",
            "weighted avg       0.86      0.89      0.85      8238\n",
            "\n",
            "89.0\n",
            "60\n",
            "[[7280   39]\n",
            " [ 874   45]]\n",
            "              precision    recall  f1-score   support\n",
            "\n",
            "          no       0.89      0.99      0.94      7319\n",
            "         yes       0.54      0.05      0.09       919\n",
            "\n",
            "   micro avg       0.89      0.89      0.89      8238\n",
            "   macro avg       0.71      0.52      0.52      8238\n",
            "weighted avg       0.85      0.89      0.85      8238\n",
            "\n",
            "89.0\n"
          ],
          "name": "stdout"
        }
      ]
    },
    {
      "cell_type": "code",
      "metadata": {
        "id": "yXbrst65D03C"
      },
      "source": [
        "from sklearn.utils import shuffle"
      ],
      "execution_count": null,
      "outputs": []
    },
    {
      "cell_type": "code",
      "metadata": {
        "id": "6iI64y1bD03C",
        "outputId": "b9eef00b-98e2-46ae-f232-21510346c38a"
      },
      "source": [
        "new_Ind = []\n",
        "cur_MaxScore = 0.0\n",
        "col_num = 9\n",
        "col_Ind_Random = shuffle(range(0,col_num),random_state=30)\n",
        "for cur_f in range(0,col_num):\n",
        "    new_Ind.append(col_Ind_Random[cur_f])\n",
        "    newData = Bank_data[:,new_Ind]\n",
        "    X_train, X_test, Y_train, Y_test = train_test_split(newData,Bank_model_target, test_size = 0.20, random_state = 0);\n",
        "    clf = KNeighborsClassifier(50);\n",
        "    fit = clf.fit(X_train, Y_train.ravel())\n",
        "    cur_Score = clf.score(X_test, Y_test);\n",
        "    if cur_Score < cur_MaxScore:\n",
        "        new_Ind.remove(col_Ind_Random[cur_f])\n",
        "    else:\n",
        "        cur_MaxScore =cur_Score\n",
        "        print \"Score with \" + str(len(new_Ind)) + \" Selected features: \" +str(cur_Score)\n",
        "        cm = confusion_matrix(Y_test, y_pre);\n",
        "        print cm"
      ],
      "execution_count": null,
      "outputs": [
        {
          "output_type": "stream",
          "text": [
            "Score with 1 Selected features: 0.888443797038116\n",
            "[[7280   39]\n",
            " [ 874   45]]\n",
            "Score with 2 Selected features: 0.888443797038116\n",
            "[[7280   39]\n",
            " [ 874   45]]\n",
            "Score with 3 Selected features: 0.888443797038116\n",
            "[[7280   39]\n",
            " [ 874   45]]\n",
            "Score with 4 Selected features: 0.8889293517844137\n",
            "[[7280   39]\n",
            " [ 874   45]]\n",
            "Score with 5 Selected features: 0.8892935178441369\n",
            "[[7280   39]\n",
            " [ 874   45]]\n",
            "Score with 6 Selected features: 0.8894149065307113\n",
            "[[7280   39]\n",
            " [ 874   45]]\n",
            "Score with 7 Selected features: 0.8895362952172857\n",
            "[[7280   39]\n",
            " [ 874   45]]\n",
            "Score with 8 Selected features: 0.8897790725904345\n",
            "[[7280   39]\n",
            " [ 874   45]]\n"
          ],
          "name": "stdout"
        }
      ]
    },
    {
      "cell_type": "code",
      "metadata": {
        "id": "uaXKKAL2D03C",
        "outputId": "a1af707b-c426-4d9e-dd19-126ca5f2bc13"
      },
      "source": [
        "print new_Ind"
      ],
      "execution_count": null,
      "outputs": [
        {
          "output_type": "stream",
          "text": [
            "[3, 1, 2, 0, 6, 7, 8, 5]\n"
          ],
          "name": "stdout"
        }
      ]
    },
    {
      "cell_type": "code",
      "metadata": {
        "id": "3DEb1IzsD03D"
      },
      "source": [
        "Bank_Selected_features = Bank_model.iloc[:,[3,1,4,6,7]].values"
      ],
      "execution_count": null,
      "outputs": []
    },
    {
      "cell_type": "code",
      "metadata": {
        "id": "iOzmLtpSD03D",
        "outputId": "b9db3fa0-0237-48b9-a9e7-337077265374"
      },
      "source": [
        "X_train, X_test, Y_train, Y_test = train_test_split(Bank_Selected_features,Bank_model_target, test_size = 0.20, random_state = 0);\n",
        "clf = KNeighborsClassifier(50);\n",
        "fit = clf.fit(X_train, Y_train.ravel());\n",
        "y_pre = fit.predict(X_test);\n",
        "cm = confusion_matrix(Y_test, y_pre);\n",
        "print cm;\n",
        "print classification_report(Y_test,y_pre)\n",
        "print (round(accuracy_score(Y_test, y_pre),2)*100)"
      ],
      "execution_count": null,
      "outputs": [
        {
          "output_type": "stream",
          "text": [
            "[[7255   64]\n",
            " [ 778  141]]\n",
            "              precision    recall  f1-score   support\n",
            "\n",
            "          no       0.90      0.99      0.95      7319\n",
            "         yes       0.69      0.15      0.25       919\n",
            "\n",
            "   micro avg       0.90      0.90      0.90      8238\n",
            "   macro avg       0.80      0.57      0.60      8238\n",
            "weighted avg       0.88      0.90      0.87      8238\n",
            "\n",
            "90.0\n"
          ],
          "name": "stdout"
        }
      ]
    },
    {
      "cell_type": "markdown",
      "metadata": {
        "id": "PYd2h1NlD03D"
      },
      "source": [
        "### Decision Tree"
      ]
    },
    {
      "cell_type": "code",
      "metadata": {
        "id": "nhWIRiEKD03D"
      },
      "source": [
        "from sklearn.tree import DecisionTreeClassifier"
      ],
      "execution_count": null,
      "outputs": []
    },
    {
      "cell_type": "code",
      "metadata": {
        "id": "RXpBGr8ED03D",
        "outputId": "8c9ccbcf-d956-4d84-8c20-9becac12ccfc"
      },
      "source": [
        "X_train, X_test, Y_train, Y_test = train_test_split(Bank_data,Bank_model_target, test_size = 0.50, random_state = 0);\n",
        "dtree = DecisionTreeClassifier(criterion='gini',max_features=None) \n",
        "dtree.fit(X_train, Y_train)\n",
        "dtreepred = dtree.predict(X_test)\n",
        "cm = confusion_matrix(Y_test, dtreepred); \n",
        "print cm;\n",
        "print classification_report(Y_test,dtreepred)\n",
        "print(round(accuracy_score(Y_test, dtreepred),2)*100)"
      ],
      "execution_count": null,
      "outputs": [
        {
          "output_type": "stream",
          "text": [
            "[[17101  1190]\n",
            " [ 1687   616]]\n",
            "              precision    recall  f1-score   support\n",
            "\n",
            "          no       0.91      0.93      0.92     18291\n",
            "         yes       0.34      0.27      0.30      2303\n",
            "\n",
            "   micro avg       0.86      0.86      0.86     20594\n",
            "   macro avg       0.63      0.60      0.61     20594\n",
            "weighted avg       0.85      0.86      0.85     20594\n",
            "\n",
            "86.0\n"
          ],
          "name": "stdout"
        }
      ]
    },
    {
      "cell_type": "code",
      "metadata": {
        "id": "E01gPGc4D03E",
        "outputId": "12aec999-e129-4a7f-84ad-d720f055d0cf"
      },
      "source": [
        "X_train, X_test, Y_train, Y_test = train_test_split(Bank_data,Bank_model_target, test_size = 0.50, random_state = 0);\n",
        "dtree = DecisionTreeClassifier(criterion='entropy',max_features=None) \n",
        "dtree.fit(X_train, Y_train)\n",
        "dtreepred = dtree.predict(X_test)\n",
        "cm = confusion_matrix(Y_test, dtreepred); \n",
        "print cm;\n",
        "print classification_report(Y_test,dtreepred)\n",
        "print(round(accuracy_score(Y_test, dtreepred),2)*100)"
      ],
      "execution_count": null,
      "outputs": [
        {
          "output_type": "stream",
          "text": [
            "[[17139  1152]\n",
            " [ 1678   625]]\n",
            "              precision    recall  f1-score   support\n",
            "\n",
            "          no       0.91      0.94      0.92     18291\n",
            "         yes       0.35      0.27      0.31      2303\n",
            "\n",
            "   micro avg       0.86      0.86      0.86     20594\n",
            "   macro avg       0.63      0.60      0.62     20594\n",
            "weighted avg       0.85      0.86      0.85     20594\n",
            "\n",
            "86.0\n"
          ],
          "name": "stdout"
        }
      ]
    },
    {
      "cell_type": "code",
      "metadata": {
        "id": "65B-VIXkD03E",
        "outputId": "67d07549-44e8-407c-d95f-ceaae067e89a"
      },
      "source": [
        "X_train, X_test, Y_train, Y_test = train_test_split(Bank_data,Bank_model_target, test_size = 0.40, random_state = 0);\n",
        "dtree = DecisionTreeClassifier(criterion='gini',max_features=None) \n",
        "dtree.fit(X_train, Y_train)\n",
        "dtreepred = dtree.predict(X_test)\n",
        "cm = confusion_matrix(Y_test, dtreepred); \n",
        "print cm;\n",
        "print classification_report(Y_test,dtreepred)\n",
        "print(round(accuracy_score(Y_test, dtreepred),2)*100)"
      ],
      "execution_count": null,
      "outputs": [
        {
          "output_type": "stream",
          "text": [
            "[[13765   890]\n",
            " [ 1352   469]]\n",
            "              precision    recall  f1-score   support\n",
            "\n",
            "          no       0.91      0.94      0.92     14655\n",
            "         yes       0.35      0.26      0.29      1821\n",
            "\n",
            "   micro avg       0.86      0.86      0.86     16476\n",
            "   macro avg       0.63      0.60      0.61     16476\n",
            "weighted avg       0.85      0.86      0.86     16476\n",
            "\n",
            "86.0\n"
          ],
          "name": "stdout"
        }
      ]
    },
    {
      "cell_type": "code",
      "metadata": {
        "id": "mGw0Tdd7D03E",
        "outputId": "b417d921-750d-45e4-c1b7-d8761162d9ee"
      },
      "source": [
        "X_train, X_test, Y_train, Y_test = train_test_split(Bank_data,Bank_model_target, test_size = 0.40, random_state = 0);\n",
        "dtree = DecisionTreeClassifier(criterion='entropy',max_features=None) \n",
        "dtree.fit(X_train, Y_train)\n",
        "dtreepred = dtree.predict(X_test)\n",
        "cm = confusion_matrix(Y_test, dtreepred); \n",
        "print cm;\n",
        "print classification_report(Y_test,dtreepred)\n",
        "print(round(accuracy_score(Y_test, dtreepred),2)*100)"
      ],
      "execution_count": null,
      "outputs": [
        {
          "output_type": "stream",
          "text": [
            "[[13799   856]\n",
            " [ 1332   489]]\n",
            "              precision    recall  f1-score   support\n",
            "\n",
            "          no       0.91      0.94      0.93     14655\n",
            "         yes       0.36      0.27      0.31      1821\n",
            "\n",
            "   micro avg       0.87      0.87      0.87     16476\n",
            "   macro avg       0.64      0.61      0.62     16476\n",
            "weighted avg       0.85      0.87      0.86     16476\n",
            "\n",
            "87.0\n"
          ],
          "name": "stdout"
        }
      ]
    },
    {
      "cell_type": "code",
      "metadata": {
        "id": "JcPA6jusD03E",
        "outputId": "7e022ccf-38e9-4db5-e213-db462a99da21"
      },
      "source": [
        "X_train, X_test, Y_train, Y_test = train_test_split(Bank_data,Bank_model_target, test_size = 0.20, random_state = 0);\n",
        "dtree = DecisionTreeClassifier(criterion='gini',max_features=None) \n",
        "dtree.fit(X_train, Y_train)\n",
        "dtreepred = dtree.predict(X_test)\n",
        "cm = confusion_matrix(Y_test, dtreepred); \n",
        "print cm;\n",
        "print classification_report(Y_test,dtreepred)\n",
        "print(round(accuracy_score(Y_test, dtreepred),2)*100)"
      ],
      "execution_count": null,
      "outputs": [
        {
          "output_type": "stream",
          "text": [
            "[[6896  423]\n",
            " [ 668  251]]\n",
            "              precision    recall  f1-score   support\n",
            "\n",
            "          no       0.91      0.94      0.93      7319\n",
            "         yes       0.37      0.27      0.32       919\n",
            "\n",
            "   micro avg       0.87      0.87      0.87      8238\n",
            "   macro avg       0.64      0.61      0.62      8238\n",
            "weighted avg       0.85      0.87      0.86      8238\n",
            "\n",
            "87.0\n"
          ],
          "name": "stdout"
        }
      ]
    },
    {
      "cell_type": "code",
      "metadata": {
        "id": "vOWnLZVqD03F",
        "outputId": "0b638f8a-3667-4708-987f-4e78c106f994"
      },
      "source": [
        "X_train, X_test, Y_train, Y_test = train_test_split(Bank_data,Bank_model_target, test_size = 0.20, random_state = 0);\n",
        "dtree = DecisionTreeClassifier(criterion='entropy',max_features=None) \n",
        "dtree.fit(X_train, Y_train)\n",
        "dtreepred = dtree.predict(X_test)\n",
        "cm = confusion_matrix(Y_test, dtreepred); \n",
        "print cm;\n",
        "print classification_report(Y_test,dtreepred)\n",
        "print(round(accuracy_score(Y_test, dtreepred),2)*100)"
      ],
      "execution_count": null,
      "outputs": [
        {
          "output_type": "stream",
          "text": [
            "[[6898  421]\n",
            " [ 669  250]]\n",
            "              precision    recall  f1-score   support\n",
            "\n",
            "          no       0.91      0.94      0.93      7319\n",
            "         yes       0.37      0.27      0.31       919\n",
            "\n",
            "   micro avg       0.87      0.87      0.87      8238\n",
            "   macro avg       0.64      0.61      0.62      8238\n",
            "weighted avg       0.85      0.87      0.86      8238\n",
            "\n",
            "87.0\n"
          ],
          "name": "stdout"
        }
      ]
    }
  ]
}